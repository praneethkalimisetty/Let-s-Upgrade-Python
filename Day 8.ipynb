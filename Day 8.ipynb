{
 "cells": [
  {
   "cell_type": "code",
   "execution_count": 1,
   "metadata": {},
   "outputs": [
    {
     "name": "stdout",
     "output_type": "stream",
     "text": [
      "101\n",
      "YES\n"
     ]
    }
   ],
   "source": [
    "def flip(str): \n",
    "    sum = 0\n",
    "    n = len(str) \n",
    "    for i in range( 0, n ): \n",
    "        sum += int(str[i]) - int('0') \n",
    "  \n",
    "    return (sum == n - 1 or sum == 1) \n",
    "\n",
    "n = input()\n",
    "if flip(n):\n",
    "    print(\"YES\")\n",
    "else:\n",
    "    print(\"NO\")"
   ]
  }
 ],
 "metadata": {
  "kernelspec": {
   "display_name": "Python 3",
   "language": "python",
   "name": "python3"
  },
  "language_info": {
   "codemirror_mode": {
    "name": "ipython",
    "version": 3
   },
   "file_extension": ".py",
   "mimetype": "text/x-python",
   "name": "python",
   "nbconvert_exporter": "python",
   "pygments_lexer": "ipython3",
   "version": "3.7.6"
  }
 },
 "nbformat": 4,
 "nbformat_minor": 4
}
