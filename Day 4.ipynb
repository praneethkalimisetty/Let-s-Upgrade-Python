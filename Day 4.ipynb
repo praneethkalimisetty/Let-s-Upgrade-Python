{
 "cells": [
  {
   "cell_type": "code",
   "execution_count": 60,
   "metadata": {},
   "outputs": [],
   "source": [
    "# Assignment4\n",
    "lst1 = [1,1,5]\n",
    "lst2 = [1,5,6,4,1,2,3,5]\n",
    "lst3 = [1,5,6,5,1,2,3,6]"
   ]
  },
  {
   "cell_type": "code",
   "execution_count": 61,
   "metadata": {},
   "outputs": [],
   "source": [
    "def findList(a,b):\n",
    "    result = 'its a Match'\n",
    "    first = 0\n",
    "    second = 0\n",
    "    count = 0\n",
    "    for i in range(len(a)):\n",
    "        for j in range(second,len(b)):\n",
    "            if a[i]==b[j] :\n",
    "                first = i\n",
    "                second = j+1\n",
    "                count = count+1\n",
    "                break\n",
    "\n",
    "    if(count == len(a)):\n",
    "        return 'its a Match'\n",
    "    else:\n",
    "        return 'its Gone'"
   ]
  },
  {
   "cell_type": "code",
   "execution_count": 62,
   "metadata": {},
   "outputs": [
    {
     "data": {
      "text/plain": [
       "'its a Match'"
      ]
     },
     "execution_count": 62,
     "metadata": {},
     "output_type": "execute_result"
    }
   ],
   "source": [
    "findList(lst1,lst2)"
   ]
  },
  {
   "cell_type": "code",
   "execution_count": 63,
   "metadata": {},
   "outputs": [
    {
     "data": {
      "text/plain": [
       "'its Gone'"
      ]
     },
     "execution_count": 63,
     "metadata": {},
     "output_type": "execute_result"
    }
   ],
   "source": [
    "findList(lst1,lst3)"
   ]
  }
 ],
 "metadata": {
  "kernelspec": {
   "display_name": "Python 3",
   "language": "python",
   "name": "python3"
  },
  "language_info": {
   "codemirror_mode": {
    "name": "ipython",
    "version": 3
   },
   "file_extension": ".py",
   "mimetype": "text/x-python",
   "name": "python",
   "nbconvert_exporter": "python",
   "pygments_lexer": "ipython3",
   "version": "3.7.6"
  }
 },
 "nbformat": 4,
 "nbformat_minor": 4
}
