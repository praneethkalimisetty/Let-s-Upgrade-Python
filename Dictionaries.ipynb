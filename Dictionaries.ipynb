{
 "cells": [
  {
   "cell_type": "raw",
   "metadata": {},
   "source": [
    "List can have list,tuple\n",
    "Tuples can have list,tuple\n",
    "Dictionary can have list,tuple,dictionary"
   ]
  },
  {
   "cell_type": "code",
   "execution_count": 1,
   "metadata": {},
   "outputs": [
    {
     "name": "stdout",
     "output_type": "stream",
     "text": [
      "{1: 'CSE', 2: 'ECE', 3: 'EEE', 4: 'IT', 5: 'MECH'}\n",
      "CSE\n"
     ]
    }
   ],
   "source": [
    "d = {1:'CSE', 2:'ECE', 3:'EEE', 4:'IT', 5:'MECH'}\n",
    "print(d)\n",
    "print(d[1])"
   ]
  },
  {
   "cell_type": "code",
   "execution_count": 2,
   "metadata": {},
   "outputs": [
    {
     "name": "stdout",
     "output_type": "stream",
     "text": [
      "{'CSE': 3, 'IT': 2, 'ECE': 1}\n",
      "1\n"
     ]
    }
   ],
   "source": [
    "d1 = {'CSE':3, 'IT':2, 'ECE':1}\n",
    "print(d1)\n",
    "print(d1['ECE'])"
   ]
  },
  {
   "cell_type": "code",
   "execution_count": 4,
   "metadata": {},
   "outputs": [
    {
     "name": "stdout",
     "output_type": "stream",
     "text": [
      "{2: 'ECE', 3: 'EEE', 4: 'IT', 5: 'MECH'}\n",
      "{}\n"
     ]
    }
   ],
   "source": [
    "d = {1:'CSE', 2:'ECE', 3:'EEE', 4:'IT', 5:'MECH'}\n",
    "del d[1]\n",
    "print(d)\n",
    "d.clear()\n",
    "print(d)"
   ]
  },
  {
   "cell_type": "code",
   "execution_count": 8,
   "metadata": {},
   "outputs": [
    {
     "name": "stdout",
     "output_type": "stream",
     "text": [
      "True\n",
      "{1: 'CSE', 2: 'ECE', 3: 'EEE', 4: 'IT', 5: 'MECH'}\n",
      "5\n",
      "dict_keys([1, 2, 3, 4, 5])\n",
      "dict_values(['CSE', 'ECE', 'EEE', 'IT', 'MECH'])\n"
     ]
    }
   ],
   "source": [
    "d = {1:'CSE', 2:'ECE', 3:'EEE', 4:'IT', 5:'MECH'}\n",
    "print(3 in d)\n",
    "print(str(d))\n",
    "print(len(d))\n",
    "print(d.keys())\n",
    "print(d.values())"
   ]
  },
  {
   "cell_type": "code",
   "execution_count": 9,
   "metadata": {},
   "outputs": [
    {
     "name": "stdout",
     "output_type": "stream",
     "text": [
      "{1: 'CSE', 2: 'ECE', 3: 'EEE', 4: 'IT', 5: 'MECH'}\n",
      "{100: 'CHEM'}\n",
      "{1: 'CSE', 2: 'ECE', 3: 'EEE', 4: 'IT', 5: 'MECH', 100: 'CHEM'}\n"
     ]
    }
   ],
   "source": [
    "d1 = {1:'CSE', 2:'ECE', 3:'EEE', 4:'IT', 5:'MECH'}\n",
    "d2 = {100:'CHEM'}\n",
    "print(d1)\n",
    "print(d2)\n",
    "d1.update(d2)\n",
    "print(d1)"
   ]
  },
  {
   "cell_type": "code",
   "execution_count": 11,
   "metadata": {},
   "outputs": [
    {
     "name": "stdout",
     "output_type": "stream",
     "text": [
      "EEE\n",
      "EEE\n"
     ]
    }
   ],
   "source": [
    "d = {1:'CSE', 2:'ECE', 3:'EEE', 4:'IT', 5:'MECH'}\n",
    "print(d[3])\n",
    "print(d.get(3))"
   ]
  },
  {
   "cell_type": "code",
   "execution_count": 13,
   "metadata": {},
   "outputs": [
    {
     "name": "stdout",
     "output_type": "stream",
     "text": [
      "{1: ['A', 'B'], 2: ['C', 'D']}\n",
      "<class 'dict'>\n",
      "{1: ('A', 'B'), 2: ('C', 'D'), 3: 2}\n",
      "<class 'dict'>\n",
      "2\n",
      "<class 'int'>\n"
     ]
    }
   ],
   "source": [
    "l = {1:['A','B'],2:['C','D']}\n",
    "print(l)\n",
    "print(type(l))\n",
    "lq = {1:('A','B'),2:('C','D'),3:(2)}\n",
    "print(lq)\n",
    "print(type(lq))\n",
    "print(lq[3])\n",
    "print(type(lq[3]))"
   ]
  }
 ],
 "metadata": {
  "kernelspec": {
   "display_name": "Python 3",
   "language": "python",
   "name": "python3"
  },
  "language_info": {
   "codemirror_mode": {
    "name": "ipython",
    "version": 3
   },
   "file_extension": ".py",
   "mimetype": "text/x-python",
   "name": "python",
   "nbconvert_exporter": "python",
   "pygments_lexer": "ipython3",
   "version": "3.7.6"
  }
 },
 "nbformat": 4,
 "nbformat_minor": 4
}
