{
 "cells": [
  {
   "cell_type": "markdown",
   "metadata": {},
   "source": [
    "# List"
   ]
  },
  {
   "cell_type": "code",
   "execution_count": 1,
   "metadata": {},
   "outputs": [
    {
     "name": "stdout",
     "output_type": "stream",
     "text": [
      "[1, 2, 3, 4]\n"
     ]
    }
   ],
   "source": [
    "st = [1,2,3,4]\n",
    "print(st)"
   ]
  },
  {
   "cell_type": "code",
   "execution_count": 2,
   "metadata": {},
   "outputs": [
    {
     "name": "stdout",
     "output_type": "stream",
     "text": [
      "['A', 'B', 'C', 'D', 'E']\n",
      "['A', 88.33, 'C', 'D', 'E']\n"
     ]
    }
   ],
   "source": [
    "st = ['A','B','C','D','E']\n",
    "print(st)\n",
    "\n",
    "st[1] = 88.33\n",
    "print(st)"
   ]
  },
  {
   "cell_type": "code",
   "execution_count": 3,
   "metadata": {},
   "outputs": [
    {
     "data": {
      "text/plain": [
       "False"
      ]
     },
     "execution_count": 3,
     "metadata": {},
     "output_type": "execute_result"
    }
   ],
   "source": [
    "'B' in st"
   ]
  },
  {
   "cell_type": "code",
   "execution_count": 11,
   "metadata": {},
   "outputs": [
    {
     "name": "stdout",
     "output_type": "stream",
     "text": [
      "[1, 2, [100, 200, 300], 22.4, [99, 100, [44, 32], 21], 76]\n",
      "1\n",
      "[100, 200, 300]\n",
      "[99, 100, [44, 32], 21]\n",
      "[44, 32]\n",
      "300\n",
      "44\n"
     ]
    }
   ],
   "source": [
    "l = [1,2,[100,200,300],22.4,[99,100,[44,32],21],76]\n",
    "print(l)\n",
    "print(l[0])\n",
    "print(l[2])\n",
    "print(l[4])\n",
    "print(l[4][2])\n",
    "print(l[2][2])\n",
    "print(l[4][2][0])"
   ]
  },
  {
   "cell_type": "code",
   "execution_count": 12,
   "metadata": {},
   "outputs": [
    {
     "name": "stdout",
     "output_type": "stream",
     "text": [
      "[1, 3, 4, 5]\n"
     ]
    }
   ],
   "source": [
    "m = [1,2,3,4,5]\n",
    "m.remove(2)\n",
    "print(m)"
   ]
  },
  {
   "cell_type": "code",
   "execution_count": 13,
   "metadata": {},
   "outputs": [
    {
     "name": "stdout",
     "output_type": "stream",
     "text": [
      "[1, 4, 5]\n"
     ]
    }
   ],
   "source": [
    "del m[1]\n",
    "print(m)"
   ]
  },
  {
   "cell_type": "code",
   "execution_count": 14,
   "metadata": {},
   "outputs": [
    {
     "data": {
      "text/plain": [
       "666666"
      ]
     },
     "execution_count": 14,
     "metadata": {},
     "output_type": "execute_result"
    }
   ],
   "source": [
    "s = [1,22,333,4444,55555,666666]\n",
    "s.pop()"
   ]
  },
  {
   "cell_type": "code",
   "execution_count": 15,
   "metadata": {},
   "outputs": [
    {
     "data": {
      "text/plain": [
       "22"
      ]
     },
     "execution_count": 15,
     "metadata": {},
     "output_type": "execute_result"
    }
   ],
   "source": [
    "s.pop(1)"
   ]
  },
  {
   "cell_type": "code",
   "execution_count": 16,
   "metadata": {},
   "outputs": [
    {
     "name": "stdout",
     "output_type": "stream",
     "text": [
      "[1, 333, 4444, 55555]\n"
     ]
    }
   ],
   "source": [
    "print(s)"
   ]
  },
  {
   "cell_type": "code",
   "execution_count": 18,
   "metadata": {},
   "outputs": [
    {
     "name": "stdout",
     "output_type": "stream",
     "text": [
      "[3, 2, 8, 5, 9, 23, 1]\n",
      "[3, 2, 8, 5, 9, 23, 1]\n",
      "1\n",
      "23\n",
      "[3, 2, 999999999, 8, 5, 9, 23, 1]\n",
      "[3, 2, 999999999, 8, 5, 9, 23, 1, 7777777]\n",
      "[1, 2, 3, 5, 8, 9, 23, 7777777, 999999999]\n",
      "[999999999, 7777777, 23, 9, 8, 5, 3, 2, 1]\n",
      "[]\n"
     ]
    }
   ],
   "source": [
    "lst = [3,2,8,5,9,23,1]\n",
    "print(lst)\n",
    "print(lst[:])\n",
    "print(min(lst))\n",
    "print(max(lst))\n",
    "lst.insert(2,999999999)\n",
    "print(lst)\n",
    "lst.append(7777777)\n",
    "print(lst)\n",
    "lst.sort()\n",
    "print(lst)\n",
    "lst.reverse()\n",
    "print(lst)\n",
    "lst.clear()\n",
    "print(lst)"
   ]
  },
  {
   "cell_type": "code",
   "execution_count": 19,
   "metadata": {},
   "outputs": [
    {
     "data": {
      "text/plain": [
       "[1, 2, 3, 1, 2, 3, 1, 2, 3]"
      ]
     },
     "execution_count": 19,
     "metadata": {},
     "output_type": "execute_result"
    }
   ],
   "source": [
    "lst1 = [1,2,3]\n",
    "lst1*3"
   ]
  }
 ],
 "metadata": {
  "kernelspec": {
   "display_name": "Python 3",
   "language": "python",
   "name": "python3"
  },
  "language_info": {
   "codemirror_mode": {
    "name": "ipython",
    "version": 3
   },
   "file_extension": ".py",
   "mimetype": "text/x-python",
   "name": "python",
   "nbconvert_exporter": "python",
   "pygments_lexer": "ipython3",
   "version": "3.7.6"
  }
 },
 "nbformat": 4,
 "nbformat_minor": 4
}
