{
 "cells": [
  {
   "cell_type": "code",
   "execution_count": 1,
   "metadata": {},
   "outputs": [
    {
     "name": "stdout",
     "output_type": "stream",
     "text": [
      "8\n",
      "{1: 1, 2: 4, 3: 9, 4: 16, 5: 25, 6: 36, 7: 49, 8: 64}\n"
     ]
    }
   ],
   "source": [
    "# Assignment1\n",
    "dict = {}\n",
    "d = input()\n",
    "d = int(d) + 1\n",
    "for i in range(1,d):\n",
    "    dict_1 = {i : i*i}\n",
    "    dict.update(dict_1)\n",
    "\n",
    "print(dict)"
   ]
  },
  {
   "cell_type": "code",
   "execution_count": 2,
   "metadata": {},
   "outputs": [
    {
     "name": "stdout",
     "output_type": "stream",
     "text": [
      "Enter two values seperated by space: 2 6\n",
      "3\n",
      "4\n",
      "5\n",
      "6\n",
      "list_1 :  [3, 4, 5, 6]\n"
     ]
    }
   ],
   "source": [
    "# Assignment2\n",
    "x, y = input(\"Enter two values seperated by space: \").split()\n",
    "x = int(x)\n",
    "y = int(y)\n",
    "list_1 = []\n",
    "for i in range(x,y):\n",
    "    print(i+1)\n",
    "    list_1.append(i+1)\n",
    "print('list_1 : ',list_1)"
   ]
  }
 ],
 "metadata": {
  "kernelspec": {
   "display_name": "Python 3",
   "language": "python",
   "name": "python3"
  },
  "language_info": {
   "codemirror_mode": {
    "name": "ipython",
    "version": 3
   },
   "file_extension": ".py",
   "mimetype": "text/x-python",
   "name": "python",
   "nbconvert_exporter": "python",
   "pygments_lexer": "ipython3",
   "version": "3.7.6"
  }
 },
 "nbformat": 4,
 "nbformat_minor": 4
}
