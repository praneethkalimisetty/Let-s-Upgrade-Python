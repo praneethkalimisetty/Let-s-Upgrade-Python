{
 "cells": [
  {
   "cell_type": "markdown",
   "metadata": {},
   "source": [
    "# File Handling"
   ]
  },
  {
   "cell_type": "code",
   "execution_count": 2,
   "metadata": {},
   "outputs": [],
   "source": [
    "# 'w' to write\n",
    "# 'r' to read\n",
    "# 'a' to append\n",
    "# 'r+' for both reading and writing\n",
    "\n",
    "f = open(\"t1.txt\",\"w\")\n",
    "f.close()"
   ]
  },
  {
   "cell_type": "code",
   "execution_count": 3,
   "metadata": {},
   "outputs": [
    {
     "name": "stdout",
     "output_type": "stream",
     "text": [
      "False\n",
      "True\n"
     ]
    }
   ],
   "source": [
    "f = open(\"t1.txt\",\"w\")\n",
    "f.write(\"2) Hello Sai Praneeth,\\n\")\n",
    "f.write(\"2) This is the first file you have created.\\n\")\n",
    "print(f.closed)\n",
    "f.close()\n",
    "print(f.closed)"
   ]
  },
  {
   "cell_type": "code",
   "execution_count": 4,
   "metadata": {},
   "outputs": [],
   "source": [
    "f = open(\"t1.txt\",\"a\")\n",
    "f.write(\"New content is appended with append(a) mode.\\n\")\n",
    "f.write(\"Append mode is working.\\n\")\n",
    "f.close()"
   ]
  },
  {
   "cell_type": "raw",
   "metadata": {},
   "source": [
    "file.closed - Returns True if the file is closed else False\n",
    "file.mode - Returns access mode with which the file was opened\n",
    "file.name - Returns the name of the file"
   ]
  },
  {
   "cell_type": "code",
   "execution_count": 5,
   "metadata": {},
   "outputs": [],
   "source": [
    "f = open(\"t1.txt\",\"a\")\n",
    "f.write(\"To check file \\n\")\n",
    "f.close()"
   ]
  },
  {
   "cell_type": "code",
   "execution_count": 13,
   "metadata": {},
   "outputs": [],
   "source": [
    "f = open(\"t3.txt\",\"w\")\n",
    "f.write(\"1) Hello Sai Praneeth,\\n\")\n",
    "f.write(\"2) This is the first file you have created.\\n\")\n",
    "f.write(\"3) This is the second line in the file.\\n\")\n",
    "f.close()"
   ]
  },
  {
   "cell_type": "code",
   "execution_count": 15,
   "metadata": {},
   "outputs": [],
   "source": [
    "import os\n",
    "os.rename('t3.txt','File.txt')"
   ]
  },
  {
   "cell_type": "code",
   "execution_count": 17,
   "metadata": {},
   "outputs": [],
   "source": [
    "f = open(\"t4.txt\",\"w\")\n",
    "f.write(\"Hello Sai Praneeth,\\n\")\n",
    "f.write(\"This is the first file you have created.\\n\")\n",
    "f.close()"
   ]
  },
  {
   "cell_type": "code",
   "execution_count": 18,
   "metadata": {},
   "outputs": [
    {
     "name": "stdout",
     "output_type": "stream",
     "text": [
      "Hello\n"
     ]
    }
   ],
   "source": [
    "f = open('t4.txt','r')\n",
    "print(f.read(5))\n",
    "f.close()"
   ]
  },
  {
   "cell_type": "code",
   "execution_count": 19,
   "metadata": {},
   "outputs": [
    {
     "name": "stdout",
     "output_type": "stream",
     "text": [
      "Hello Sai Praneeth,\n",
      "\n"
     ]
    }
   ],
   "source": [
    "f = open('t4.txt','r')\n",
    "print(f.readline())\n",
    "f.close()"
   ]
  },
  {
   "cell_type": "code",
   "execution_count": 20,
   "metadata": {},
   "outputs": [
    {
     "name": "stdout",
     "output_type": "stream",
     "text": [
      "['Hello Sai Praneeth,\\n', 'This is the first file you have created.\\n']\n"
     ]
    }
   ],
   "source": [
    "f = open('t4.txt','r')\n",
    "print(f.readlines())\n",
    "f.close()"
   ]
  },
  {
   "cell_type": "code",
   "execution_count": 22,
   "metadata": {},
   "outputs": [
    {
     "name": "stdout",
     "output_type": "stream",
     "text": [
      "['Hello Sai Praneeth,\\n', 'This is the first file you have created.\\n']\n"
     ]
    }
   ],
   "source": [
    "f = open('t4.txt','r')\n",
    "print(f.readlines())\n",
    "f.close()"
   ]
  },
  {
   "cell_type": "code",
   "execution_count": 33,
   "metadata": {},
   "outputs": [
    {
     "name": "stdout",
     "output_type": "stream",
     "text": [
      "Hello Sai Praneeth,\n",
      "This is the first file you have created.\n",
      "\n"
     ]
    }
   ],
   "source": [
    "f = open('t4.txt','r')\n",
    "#print(f.read())\n",
    "print(f.read(100))\n",
    "f.close()"
   ]
  },
  {
   "cell_type": "code",
   "execution_count": 38,
   "metadata": {},
   "outputs": [
    {
     "name": "stdout",
     "output_type": "stream",
     "text": [
      "['Hello Sai Praneeth,\\n', 'This is the first file you have created.\\n', 'Added this line\\n', 'Added this line\\n', 'Added this line\\n', 'Added this line\\n']\n"
     ]
    }
   ],
   "source": [
    "f = open('t4.txt','r+')\n",
    "print(f.readlines())\n",
    "f.write('Added this line\\n')\n",
    "#print(f.readlines())\n",
    "#f.flush()\n",
    "#print(f.readlines())\n",
    "f.close()"
   ]
  }
 ],
 "metadata": {
  "kernelspec": {
   "display_name": "Python 3",
   "language": "python",
   "name": "python3"
  },
  "language_info": {
   "codemirror_mode": {
    "name": "ipython",
    "version": 3
   },
   "file_extension": ".py",
   "mimetype": "text/x-python",
   "name": "python",
   "nbconvert_exporter": "python",
   "pygments_lexer": "ipython3",
   "version": "3.7.6"
  }
 },
 "nbformat": 4,
 "nbformat_minor": 4
}
