{
 "cells": [
  {
   "cell_type": "markdown",
   "metadata": {},
   "source": [
    "# Maps"
   ]
  },
  {
   "cell_type": "code",
   "execution_count": 1,
   "metadata": {},
   "outputs": [
    {
     "name": "stdout",
     "output_type": "stream",
     "text": [
      "25\n"
     ]
    }
   ],
   "source": [
    "# without map function\n",
    "def sqr(a):\n",
    "    return a*a\n",
    "x = sqr(5)\n",
    "print(x)"
   ]
  },
  {
   "cell_type": "code",
   "execution_count": 2,
   "metadata": {},
   "outputs": [
    {
     "name": "stdout",
     "output_type": "stream",
     "text": [
      "<map object at 0x000002911E5D3AC8>\n",
      "[1, 4, 9, 16, 25]\n"
     ]
    }
   ],
   "source": [
    "# map(function,iterables)\n",
    "def sqr(a):\n",
    "    return a*a\n",
    "x = map(sqr,[1,2,3,4,5])\n",
    "print(x)\n",
    "print(list(x))"
   ]
  },
  {
   "cell_type": "code",
   "execution_count": 3,
   "metadata": {},
   "outputs": [
    {
     "name": "stdout",
     "output_type": "stream",
     "text": [
      "<map object at 0x000002911E5D52C8>\n",
      "(1, 4, 9, 16, 25)\n"
     ]
    }
   ],
   "source": [
    "# map(function,iterables)\n",
    "def sqr(a):\n",
    "    return a*a\n",
    "x = map(sqr,[1,2,3,4,5])\n",
    "print(x)\n",
    "print(tuple(x))"
   ]
  },
  {
   "cell_type": "code",
   "execution_count": 4,
   "metadata": {},
   "outputs": [
    {
     "name": "stdout",
     "output_type": "stream",
     "text": [
      "<map object at 0x000002911E5D5988>\n",
      "{1, 4, 9, 16, 25}\n"
     ]
    }
   ],
   "source": [
    "# map(function,iterables)\n",
    "def sqr(a):\n",
    "    return a*a\n",
    "x = map(sqr,[1,2,3,4,5])\n",
    "print(x)\n",
    "print(set(x))"
   ]
  },
  {
   "cell_type": "code",
   "execution_count": 5,
   "metadata": {},
   "outputs": [
    {
     "name": "stdout",
     "output_type": "stream",
     "text": [
      "<map object at 0x000002911E5DE188>\n",
      "[0, 0, 0, 0]\n"
     ]
    }
   ],
   "source": [
    "# map(function,iterables)\n",
    "def sqr(a,b):\n",
    "    return a-a\n",
    "x = map(sqr,[1,2,3,4],[1,2,3,4])\n",
    "print(x)\n",
    "print(list(x))"
   ]
  },
  {
   "cell_type": "markdown",
   "metadata": {},
   "source": [
    "# Lambda"
   ]
  },
  {
   "cell_type": "code",
   "execution_count": 6,
   "metadata": {},
   "outputs": [
    {
     "name": "stdout",
     "output_type": "stream",
     "text": [
      "9\n"
     ]
    }
   ],
   "source": [
    "x = lambda a: a*a\n",
    "print(x(3))"
   ]
  },
  {
   "cell_type": "code",
   "execution_count": 7,
   "metadata": {},
   "outputs": [
    {
     "name": "stdout",
     "output_type": "stream",
     "text": [
      "<function abc.<locals>.<lambda> at 0x000002911E5B3A68>\n",
      "9\n",
      "11\n"
     ]
    }
   ],
   "source": [
    "# lambda within user defined functions\n",
    "def abc(x):\n",
    "    return lambda y : x+y\n",
    "t = abc(4)\n",
    "print(t)\n",
    "print(t(5))\n",
    "print(t(7))"
   ]
  },
  {
   "cell_type": "code",
   "execution_count": 8,
   "metadata": {},
   "outputs": [
    {
     "data": {
      "text/plain": [
       "11"
      ]
     },
     "execution_count": 8,
     "metadata": {},
     "output_type": "execute_result"
    }
   ],
   "source": [
    "# snippet z=5x+3y\n",
    "z = lambda x,y: 5*x+3*y\n",
    "z(1,2)"
   ]
  },
  {
   "cell_type": "code",
   "execution_count": 9,
   "metadata": {},
   "outputs": [
    {
     "data": {
      "text/plain": [
       "25"
      ]
     },
     "execution_count": 9,
     "metadata": {},
     "output_type": "execute_result"
    }
   ],
   "source": [
    "# snippet z = (a+b)^2\n",
    "z = lambda a,b: (a+b)**2\n",
    "z(2,3)"
   ]
  },
  {
   "cell_type": "code",
   "execution_count": 10,
   "metadata": {},
   "outputs": [
    {
     "name": "stdout",
     "output_type": "stream",
     "text": [
      "[4, 5, 6, 7]\n"
     ]
    }
   ],
   "source": [
    "# Using lambda function along with map function\n",
    "l = [1,2,3,4]\n",
    "x = map(lambda x:x+3, l)\n",
    "print(list(x))"
   ]
  },
  {
   "cell_type": "markdown",
   "metadata": {},
   "source": [
    "# Filter"
   ]
  },
  {
   "cell_type": "code",
   "execution_count": 11,
   "metadata": {},
   "outputs": [
    {
     "name": "stdout",
     "output_type": "stream",
     "text": [
      "<filter object at 0x000002911E5B2748>\n",
      "<class 'filter'>\n",
      "[3, 5, 7]\n"
     ]
    }
   ],
   "source": [
    "def sqr(a):\n",
    "    if(a>=3):\n",
    "        return a\n",
    "\n",
    "x = filter(sqr,[1,3,5,7])\n",
    "print(x)\n",
    "print(type(x))\n",
    "print(list(x))"
   ]
  },
  {
   "cell_type": "code",
   "execution_count": 12,
   "metadata": {},
   "outputs": [
    {
     "name": "stdout",
     "output_type": "stream",
     "text": [
      "[3, 4]\n"
     ]
    }
   ],
   "source": [
    "# filter using lambda function\n",
    "l = [1,2,3,4]\n",
    "x = filter(lambda x: x>=3,l)\n",
    "print(list(x))"
   ]
  },
  {
   "cell_type": "markdown",
   "metadata": {},
   "source": [
    "# Reduce"
   ]
  },
  {
   "cell_type": "code",
   "execution_count": 13,
   "metadata": {},
   "outputs": [
    {
     "name": "stdout",
     "output_type": "stream",
     "text": [
      "10\n"
     ]
    }
   ],
   "source": [
    "# reduce(function, iterables) -- it returns a single value\n",
    "from functools import reduce\n",
    "def sqr(a,b):\n",
    "    return a+b\n",
    "x = reduce(sqr, [1,2,3,4])\n",
    "print(x)"
   ]
  },
  {
   "cell_type": "code",
   "execution_count": 14,
   "metadata": {},
   "outputs": [
    {
     "data": {
      "text/plain": [
       "10"
      ]
     },
     "execution_count": 14,
     "metadata": {},
     "output_type": "execute_result"
    }
   ],
   "source": [
    "# reduce with lambda function\n",
    "reduce(lambda a,b: a+b, [1,2,3,4])"
   ]
  },
  {
   "cell_type": "code",
   "execution_count": 15,
   "metadata": {},
   "outputs": [
    {
     "data": {
      "text/plain": [
       "24"
      ]
     },
     "execution_count": 15,
     "metadata": {},
     "output_type": "execute_result"
    }
   ],
   "source": [
    "# reduce with lambda function\n",
    "reduce(lambda a,b: a*b, [1,2,3,4])"
   ]
  },
  {
   "cell_type": "code",
   "execution_count": 16,
   "metadata": {},
   "outputs": [
    {
     "name": "stdout",
     "output_type": "stream",
     "text": [
      "<map object at 0x000002911E4C0148>\n",
      "[6, 8]\n"
     ]
    }
   ],
   "source": [
    "# filter within map\n",
    "x = map(lambda x:x+x, filter(lambda x:x>=3,[1,2,3,4]))\n",
    "print(x)\n",
    "print(list(x))"
   ]
  },
  {
   "cell_type": "code",
   "execution_count": 17,
   "metadata": {},
   "outputs": [
    {
     "name": "stdout",
     "output_type": "stream",
     "text": [
      "<filter object at 0x000002911E4C0848>\n",
      "[7]\n"
     ]
    }
   ],
   "source": [
    "# map within filter\n",
    "x = filter(lambda x:x>6, map(lambda x:x+3,[1,2,3,4]))\n",
    "print(x)\n",
    "print(list(x))"
   ]
  },
  {
   "cell_type": "code",
   "execution_count": 18,
   "metadata": {},
   "outputs": [
    {
     "name": "stdout",
     "output_type": "stream",
     "text": [
      "14\n"
     ]
    }
   ],
   "source": [
    "# map and filter witihin reduce\n",
    "x = reduce(lambda x,y: x+y, map(lambda x:x+x, filter(lambda x:x>=3,(1,2,3,4))))\n",
    "print(x)"
   ]
  },
  {
   "cell_type": "code",
   "execution_count": 10,
   "metadata": {},
   "outputs": [
    {
     "name": "stdout",
     "output_type": "stream",
     "text": [
      "1234\n",
      "1\n"
     ]
    }
   ],
   "source": [
    "# Assignment2\n",
    "\n",
    "def fn(x):\n",
    "    m = 0\n",
    "    while(True):\n",
    "        if x == 10:\n",
    "            m = 1\n",
    "            return m\n",
    "        else:\n",
    "            n = x%10\n",
    "            x = int(x/10)\n",
    "            m = m + n\n",
    "            if(n == 0):\n",
    "                break\n",
    "    return m\n",
    "\n",
    "k = int(input())\n",
    "\n",
    "while(True):\n",
    "    k = fn(k)\n",
    "    if(k>9):\n",
    "        n = fn(k)\n",
    "    else:\n",
    "        print(k)\n",
    "        break"
   ]
  }
 ],
 "metadata": {
  "kernelspec": {
   "display_name": "Python 3",
   "language": "python",
   "name": "python3"
  },
  "language_info": {
   "codemirror_mode": {
    "name": "ipython",
    "version": 3
   },
   "file_extension": ".py",
   "mimetype": "text/x-python",
   "name": "python",
   "nbconvert_exporter": "python",
   "pygments_lexer": "ipython3",
   "version": "3.7.6"
  }
 },
 "nbformat": 4,
 "nbformat_minor": 4
}
