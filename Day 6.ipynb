{
 "cells": [
  {
   "cell_type": "code",
   "execution_count": 14,
   "metadata": {},
   "outputs": [
    {
     "name": "stdout",
     "output_type": "stream",
     "text": [
      "Enter the String : DRINKEATCODE\n",
      "5\n"
     ]
    }
   ],
   "source": [
    "lst1 = ['A','D','O','P','R','Q']\n",
    "lst2 = ['C','E','F','K','G','H','I','K','L','M','N','S','T','U','V','W','X','Y','Z']\n",
    "lst3 = ['B']\n",
    "\n",
    "in_str = str(input('Enter the String : '))\n",
    "count = 0\n",
    "\n",
    "for i in in_str:\n",
    "    if i in lst1:\n",
    "        count = count + 1\n",
    "    elif i in lst3 :\n",
    "        count = count + 2\n",
    "\n",
    "print(count)"
   ]
  }
 ],
 "metadata": {
  "kernelspec": {
   "display_name": "Python 3",
   "language": "python",
   "name": "python3"
  },
  "language_info": {
   "codemirror_mode": {
    "name": "ipython",
    "version": 3
   },
   "file_extension": ".py",
   "mimetype": "text/x-python",
   "name": "python",
   "nbconvert_exporter": "python",
   "pygments_lexer": "ipython3",
   "version": "3.7.6"
  }
 },
 "nbformat": 4,
 "nbformat_minor": 4
}
