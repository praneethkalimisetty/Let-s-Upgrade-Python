{
 "cells": [
  {
   "cell_type": "markdown",
   "metadata": {},
   "source": [
    "# List"
   ]
  },
  {
   "cell_type": "code",
   "execution_count": 1,
   "metadata": {},
   "outputs": [
    {
     "name": "stdout",
     "output_type": "stream",
     "text": [
      "[1, 2, 3.5, 4.6, 'praneeth', 'kiran', [123, 456, 789]]\n"
     ]
    }
   ],
   "source": [
    "list1 = [1,2,3.5,4.6,'praneeth','kiran',[123,456,789]]\n",
    "print(list1)"
   ]
  },
  {
   "cell_type": "code",
   "execution_count": 2,
   "metadata": {},
   "outputs": [
    {
     "name": "stdout",
     "output_type": "stream",
     "text": [
      "[0, 2, 4, 6, 32]\n",
      "['kiran', 'praneeth', 'rahul']\n"
     ]
    }
   ],
   "source": [
    "# Sorting the list -- elements in the list should be of same datatype\n",
    "list2 = [2,6,4,32,0]\n",
    "list2.sort()\n",
    "print(list2)\n",
    "\n",
    "list3 = ['praneeth','kiran','rahul']\n",
    "list3.sort()\n",
    "print(list3)"
   ]
  },
  {
   "cell_type": "code",
   "execution_count": 3,
   "metadata": {},
   "outputs": [
    {
     "name": "stdout",
     "output_type": "stream",
     "text": [
      "[1, 2, 3.5, 4.6, 'praneeth', 'kiran', [123, 456, 789], [0, 2, 4, 6, 32]]\n"
     ]
    }
   ],
   "source": [
    "# Append a number 10\n",
    "list1.append(list2)\n",
    "print(list1)"
   ]
  },
  {
   "cell_type": "code",
   "execution_count": 4,
   "metadata": {},
   "outputs": [
    {
     "name": "stdout",
     "output_type": "stream",
     "text": [
      "[1, 2, 3.5, 4.6, 'praneeth', 'kiran', [123, 456, 789], [0, 2, 4, 6, 32], 0, 2, 4, 6, 32]\n"
     ]
    }
   ],
   "source": [
    "# extend\n",
    "list1.extend(list2)\n",
    "print(list1)"
   ]
  },
  {
   "cell_type": "code",
   "execution_count": 5,
   "metadata": {},
   "outputs": [
    {
     "name": "stdout",
     "output_type": "stream",
     "text": [
      "[1, 2, 3.5, 'praneeth', 'kiran', [123, 456, 789], [0, 2, 4, 6, 32], 0, 2, 4, 6, 32]\n"
     ]
    }
   ],
   "source": [
    "# Removing the number 4.6\n",
    "list1.remove(4.6)\n",
    "print(list1)"
   ]
  },
  {
   "cell_type": "code",
   "execution_count": 6,
   "metadata": {},
   "outputs": [
    {
     "name": "stdout",
     "output_type": "stream",
     "text": [
      "[1, 2, 3.5, 'praneeth', 'kiran', [123, 456, 789], [0, 2, 4, 6, 32], 0, 2, 4, 6]\n"
     ]
    }
   ],
   "source": [
    "# Pop\n",
    "list1.pop()\n",
    "print(list1)"
   ]
  },
  {
   "cell_type": "code",
   "execution_count": 7,
   "metadata": {},
   "outputs": [
    {
     "name": "stdout",
     "output_type": "stream",
     "text": [
      "[1, 2, 11, 3.5, 'praneeth', 'kiran', [123, 456, 789], [0, 2, 4, 6, 32], 0, 2, 4, 6]\n"
     ]
    }
   ],
   "source": [
    "# Insert a number 11 in 2nd position\n",
    "list1.insert(2,11)\n",
    "print(list1)"
   ]
  },
  {
   "cell_type": "code",
   "execution_count": 8,
   "metadata": {},
   "outputs": [
    {
     "name": "stdout",
     "output_type": "stream",
     "text": [
      "[6, 4, 2, 0, [0, 2, 4, 6, 32], [123, 456, 789], 'kiran', 'praneeth', 3.5, 11, 2, 1]\n"
     ]
    }
   ],
   "source": [
    "# Reversing the list\n",
    "list1.reverse()\n",
    "print(list1)"
   ]
  },
  {
   "cell_type": "code",
   "execution_count": 9,
   "metadata": {},
   "outputs": [
    {
     "name": "stdout",
     "output_type": "stream",
     "text": [
      "2\n"
     ]
    }
   ],
   "source": [
    "# count of the list to find out number of occurences\n",
    "print(list1.count(2))"
   ]
  },
  {
   "cell_type": "code",
   "execution_count": 10,
   "metadata": {},
   "outputs": [
    {
     "name": "stdout",
     "output_type": "stream",
     "text": [
      "[]\n"
     ]
    }
   ],
   "source": [
    "# clearing the list3 -- removes all the elements in the list\n",
    "list3.clear()\n",
    "print(list3)"
   ]
  },
  {
   "cell_type": "code",
   "execution_count": 11,
   "metadata": {},
   "outputs": [
    {
     "data": {
      "text/plain": [
       "6"
      ]
     },
     "execution_count": 11,
     "metadata": {},
     "output_type": "execute_result"
    }
   ],
   "source": [
    "# index\n",
    "list1.index('kiran')"
   ]
  },
  {
   "cell_type": "code",
   "execution_count": 12,
   "metadata": {},
   "outputs": [
    {
     "name": "stdout",
     "output_type": "stream",
     "text": [
      "list3 before copy  []\n",
      "list2 :  [0, 2, 4, 6, 32]\n",
      "list3 :  [0, 2, 4, 6, 32]\n"
     ]
    }
   ],
   "source": [
    "# copy\n",
    "print('list3 before copy ',list3)\n",
    "list3 = list2.copy()\n",
    "print('list2 : ',list2)\n",
    "print('list3 : ',list3)"
   ]
  },
  {
   "cell_type": "markdown",
   "metadata": {},
   "source": [
    "# Dictionaries"
   ]
  },
  {
   "cell_type": "code",
   "execution_count": 13,
   "metadata": {},
   "outputs": [
    {
     "name": "stdout",
     "output_type": "stream",
     "text": [
      "{'name': 'praneeth', 'age': 23, 'company': 'TCS', 'experience': 2}\n"
     ]
    }
   ],
   "source": [
    "dict = {\"name\":\"praneeth\",\"age\":23,\"company\":\"TCS\",\"experience\":2}\n",
    "print(dict)"
   ]
  },
  {
   "cell_type": "code",
   "execution_count": 14,
   "metadata": {},
   "outputs": [
    {
     "name": "stdout",
     "output_type": "stream",
     "text": [
      "dict_values(['praneeth', 23, 'TCS', 2])\n"
     ]
    }
   ],
   "source": [
    "# printing the values\n",
    "print(dict.values())"
   ]
  },
  {
   "cell_type": "code",
   "execution_count": 15,
   "metadata": {},
   "outputs": [
    {
     "name": "stdout",
     "output_type": "stream",
     "text": [
      "dict_keys(['name', 'age', 'company', 'experience'])\n"
     ]
    }
   ],
   "source": [
    "#printing the keys\n",
    "print(dict.keys())"
   ]
  },
  {
   "cell_type": "code",
   "execution_count": 16,
   "metadata": {},
   "outputs": [
    {
     "name": "stdout",
     "output_type": "stream",
     "text": [
      "{'Luke': ('Spock', 'Commander'), 'Vader': ('Spock', 'Commander'), 'Ray': ('Spock', 'Commander'), 'Yoda': ('Spock', 'Commander')}\n"
     ]
    }
   ],
   "source": [
    "# fromkeys\n",
    "StarWars = ('Luke', 'Vader', 'Ray', 'Yoda')\n",
    "StarTrek = ('Spock','Commander')\n",
    "universe = dict.fromkeys(StarWars, StarTrek)\n",
    "print(universe)"
   ]
  },
  {
   "cell_type": "code",
   "execution_count": 17,
   "metadata": {},
   "outputs": [
    {
     "name": "stdout",
     "output_type": "stream",
     "text": [
      "dict before pop  {'name': 'praneeth', 'age': 23, 'company': 'TCS', 'experience': 2}\n",
      "popped element :  TCS\n",
      "dict after pop  {'name': 'praneeth', 'age': 23, 'experience': 2}\n"
     ]
    }
   ],
   "source": [
    "# pop\n",
    "print('dict before pop ', dict);\n",
    "element = dict.pop('company');\n",
    "print('popped element : ', element)\n",
    "print('dict after pop ', dict);"
   ]
  },
  {
   "cell_type": "code",
   "execution_count": 18,
   "metadata": {},
   "outputs": [
    {
     "name": "stdout",
     "output_type": "stream",
     "text": [
      "dict before popitem  {'name': 'praneeth', 'age': 23, 'experience': 2}\n",
      "popped element :  ('experience', 2)\n",
      "dict after popitem  {'name': 'praneeth', 'age': 23}\n"
     ]
    }
   ],
   "source": [
    "# popitem\n",
    "print('dict before popitem ', dict);\n",
    "element1 = dict.popitem();\n",
    "print('popped element : ', element1)\n",
    "print('dict after popitem ', dict);"
   ]
  },
  {
   "cell_type": "code",
   "execution_count": 19,
   "metadata": {},
   "outputs": [
    {
     "name": "stdout",
     "output_type": "stream",
     "text": [
      "dict before update  {'name': 'praneeth', 'age': 23}\n",
      "dict after update  {'name': 'praneeth', 'age': 23, 'company': 'TCS', 'experience': 2}\n"
     ]
    }
   ],
   "source": [
    "# update\n",
    "print('dict before update ', dict);\n",
    "dict1 = {'company':'TCS','experience':2};\n",
    "dict.update(dict1);\n",
    "print('dict after update ', dict);"
   ]
  },
  {
   "cell_type": "code",
   "execution_count": 20,
   "metadata": {},
   "outputs": [
    {
     "data": {
      "text/plain": [
       "dict_items([('name', 'praneeth'), ('age', 23), ('company', 'TCS'), ('experience', 2)])"
      ]
     },
     "execution_count": 20,
     "metadata": {},
     "output_type": "execute_result"
    }
   ],
   "source": [
    "# items\n",
    "dict.items()"
   ]
  },
  {
   "cell_type": "code",
   "execution_count": 21,
   "metadata": {},
   "outputs": [
    {
     "name": "stdout",
     "output_type": "stream",
     "text": [
      "{'name': 'praneeth', 'age': 23, 'company': 'TCS', 'experience': 2}\n"
     ]
    }
   ],
   "source": [
    "# copy\n",
    "dict3 = dict.copy()\n",
    "print(dict3)"
   ]
  },
  {
   "cell_type": "code",
   "execution_count": 22,
   "metadata": {},
   "outputs": [
    {
     "name": "stdout",
     "output_type": "stream",
     "text": [
      "dict1 before update  {'company': 'TCS', 'experience': 2}\n",
      "dict1 after update  {}\n"
     ]
    }
   ],
   "source": [
    "# clear\n",
    "print('dict1 before update ', dict1);\n",
    "dict1.clear()\n",
    "print('dict1 after update ', dict1);"
   ]
  },
  {
   "cell_type": "code",
   "execution_count": 23,
   "metadata": {},
   "outputs": [
    {
     "name": "stdout",
     "output_type": "stream",
     "text": [
      "Experience :  2\n"
     ]
    }
   ],
   "source": [
    "# get\n",
    "element2 = dict.get('experience')\n",
    "print('Experience : ', element2)"
   ]
  },
  {
   "cell_type": "code",
   "execution_count": 24,
   "metadata": {},
   "outputs": [
    {
     "name": "stdout",
     "output_type": "stream",
     "text": [
      "{'name': 'Phill', 'age': 22}\n",
      "person =  {'name': 'Phill', 'age': 22, 'salary': None}\n",
      "salary =  None\n",
      "person =  {'name': 'Phill', 'age': 22, 'salary': None}\n",
      "age =  22\n"
     ]
    }
   ],
   "source": [
    "# setdefault\n",
    "person = {'name': 'Phill', 'age': 22}\n",
    "print(person)\n",
    "# key is not in the dictionary\n",
    "salary = person.setdefault('salary')\n",
    "print('person = ',person)\n",
    "print('salary = ',salary)\n",
    "\n",
    "# key is not in the dictionary\n",
    "# default_value is provided\n",
    "age = person.setdefault('age', 22)\n",
    "print('person = ',person)\n",
    "print('age = ',age)"
   ]
  },
  {
   "cell_type": "markdown",
   "metadata": {},
   "source": [
    "# Sets"
   ]
  },
  {
   "cell_type": "code",
   "execution_count": 25,
   "metadata": {},
   "outputs": [
    {
     "name": "stdout",
     "output_type": "stream",
     "text": [
      "Updated language set:  {'English', 'French'}\n"
     ]
    }
   ],
   "source": [
    "# language set\n",
    "language = {'English', 'French', 'German'}\n",
    "\n",
    "# 'German' element is removed\n",
    "language.remove('German')\n",
    "\n",
    "# Updated language set\n",
    "print('Updated language set: ', language)"
   ]
  },
  {
   "cell_type": "code",
   "execution_count": 26,
   "metadata": {},
   "outputs": [
    {
     "name": "stdout",
     "output_type": "stream",
     "text": [
      "Vowels are: {'a', 'u', 'e', 'o', 'i'}\n",
      "Vowels are: {'a', 'u', 'e', 'o', 'i'}\n"
     ]
    }
   ],
   "source": [
    "# set of vowels\n",
    "vowels = {'a', 'e', 'i', 'u'}\n",
    "\n",
    "# adding 'o'\n",
    "vowels.add('o')\n",
    "print('Vowels are:', vowels)\n",
    "\n",
    "# adding 'a' again\n",
    "vowels.add('a')\n",
    "print('Vowels are:', vowels)"
   ]
  },
  {
   "cell_type": "code",
   "execution_count": 27,
   "metadata": {},
   "outputs": [
    {
     "name": "stdout",
     "output_type": "stream",
     "text": [
      "numbers:  {1, 2, 3, 4}\n",
      "new_numbers:  {1, 2, 3, 4, '5'}\n"
     ]
    }
   ],
   "source": [
    "# copy\n",
    "numbers = {1, 2, 3, 4}\n",
    "new_numbers = numbers.copy()\n",
    "\n",
    "new_numbers.add('5')\n",
    "\n",
    "print('numbers: ', numbers)\n",
    "print('new_numbers: ', new_numbers)"
   ]
  },
  {
   "cell_type": "code",
   "execution_count": 28,
   "metadata": {},
   "outputs": [
    {
     "name": "stdout",
     "output_type": "stream",
     "text": [
      "Vowels (before clear): {'a', 'u', 'e', 'o', 'i'}\n",
      "Vowels (after clear): set()\n"
     ]
    }
   ],
   "source": [
    "# clear\n",
    "# set of vowels\n",
    "vowels = {'a', 'e', 'i', 'o', 'u'}\n",
    "print('Vowels (before clear):', vowels)\n",
    "\n",
    "# clearing vowels\n",
    "vowels.clear()\n",
    "print('Vowels (after clear):', vowels)"
   ]
  },
  {
   "cell_type": "code",
   "execution_count": 29,
   "metadata": {},
   "outputs": [
    {
     "name": "stdout",
     "output_type": "stream",
     "text": [
      "{'b', 'a', 'd'}\n",
      "{'f', 'g'}\n"
     ]
    }
   ],
   "source": [
    "# difference\n",
    "A = {'a', 'b', 'c', 'd'}\n",
    "B = {'c', 'f', 'g'}\n",
    "\n",
    "# Equivalent to A-B\n",
    "print(A.difference(B))\n",
    "\n",
    "# Equivalent to B-A\n",
    "print(B.difference(A))"
   ]
  },
  {
   "cell_type": "code",
   "execution_count": 30,
   "metadata": {},
   "outputs": [
    {
     "name": "stdout",
     "output_type": "stream",
     "text": [
      "A =  {'a', 'd'}\n",
      "B =  {'f', 'c', 'g'}\n",
      "result =  None\n"
     ]
    }
   ],
   "source": [
    "# difference_update\n",
    "A = {'a', 'c', 'g', 'd'}\n",
    "B = {'c', 'f', 'g'}\n",
    "\n",
    "result = A.difference_update(B)\n",
    "\n",
    "print('A = ', A)\n",
    "print('B = ', B)\n",
    "print('result = ', result)"
   ]
  },
  {
   "cell_type": "code",
   "execution_count": 31,
   "metadata": {},
   "outputs": [
    {
     "name": "stdout",
     "output_type": "stream",
     "text": [
      "numbers =  {2, 4, 5}\n",
      "numbers =  {2, 4, 5}\n"
     ]
    }
   ],
   "source": [
    "# discard\n",
    "numbers = {2, 3, 4, 5}\n",
    "\n",
    "numbers.discard(3)\n",
    "print('numbers = ', numbers)\n",
    "\n",
    "numbers.discard(10)\n",
    "print('numbers = ', numbers)"
   ]
  },
  {
   "cell_type": "code",
   "execution_count": 32,
   "metadata": {},
   "outputs": [
    {
     "name": "stdout",
     "output_type": "stream",
     "text": [
      "{2, 5}\n",
      "{2}\n",
      "{2, 3}\n",
      "{2}\n"
     ]
    }
   ],
   "source": [
    "# intersection\n",
    "A = {2, 3, 5, 4}\n",
    "B = {2, 5, 100}\n",
    "C = {2, 3, 8, 9, 10}\n",
    "\n",
    "print(B.intersection(A))\n",
    "print(B.intersection(C))\n",
    "print(A.intersection(C))\n",
    "print(C.intersection(A, B))"
   ]
  },
  {
   "cell_type": "code",
   "execution_count": 33,
   "metadata": {},
   "outputs": [
    {
     "name": "stdout",
     "output_type": "stream",
     "text": [
      "result = None\n",
      "A = {2, 3, 4}\n",
      "B = {2, 3, 4, 5}\n"
     ]
    }
   ],
   "source": [
    "# intersection_update\n",
    "A = {1, 2, 3, 4}\n",
    "B = {2, 3, 4, 5}\n",
    "\n",
    "result = A.intersection_update(B)\n",
    "\n",
    "print('result =', result)\n",
    "print('A =', A)\n",
    "print('B =', B)"
   ]
  },
  {
   "cell_type": "code",
   "execution_count": 34,
   "metadata": {},
   "outputs": [
    {
     "name": "stdout",
     "output_type": "stream",
     "text": [
      "Are A and B disjoint? True\n",
      "Are A and C disjoint? False\n"
     ]
    }
   ],
   "source": [
    "# isdisjoint\n",
    "A = {1, 2, 3, 4}\n",
    "B = {5, 6, 7}\n",
    "C = {4, 5, 6}\n",
    "\n",
    "print('Are A and B disjoint?', A.isdisjoint(B))\n",
    "print('Are A and C disjoint?', A.isdisjoint(C))"
   ]
  },
  {
   "cell_type": "code",
   "execution_count": 35,
   "metadata": {},
   "outputs": [
    {
     "name": "stdout",
     "output_type": "stream",
     "text": [
      "True\n",
      "False\n",
      "False\n",
      "True\n"
     ]
    }
   ],
   "source": [
    "# issubset\n",
    "A = {1, 2, 3}\n",
    "B = {1, 2, 3, 4, 5}\n",
    "C = {1, 2, 4, 5}\n",
    "\n",
    "# Returns True\n",
    "print(A.issubset(B))\n",
    "\n",
    "# Returns False\n",
    "# B is not subset of A\n",
    "print(B.issubset(A))\n",
    "\n",
    "# Returns False\n",
    "print(A.issubset(C))\n",
    "\n",
    "# Returns True\n",
    "print(C.issubset(B))"
   ]
  },
  {
   "cell_type": "code",
   "execution_count": 36,
   "metadata": {},
   "outputs": [
    {
     "name": "stdout",
     "output_type": "stream",
     "text": [
      "Return Value is b\n",
      "A =  {'a', 'c', 'd'}\n"
     ]
    }
   ],
   "source": [
    "# pop\n",
    "A ={'a', 'b', 'c', 'd'}\n",
    "\n",
    "print('Return Value is', A.pop())\n",
    "print('A = ', A)"
   ]
  },
  {
   "cell_type": "code",
   "execution_count": 37,
   "metadata": {},
   "outputs": [
    {
     "name": "stdout",
     "output_type": "stream",
     "text": [
      "{'b', 'a', 'e'}\n",
      "{'b', 'a', 'e'}\n",
      "{'b', 'a', 'c', 'd'}\n",
      "{'c', 'e', 'd'}\n"
     ]
    }
   ],
   "source": [
    "# symmetric_difference\n",
    "A = {'a', 'b', 'c', 'd'}\n",
    "B = {'c', 'd', 'e' }\n",
    "C = {}\n",
    "\n",
    "print(A.symmetric_difference(B))\n",
    "print(B.symmetric_difference(A))\n",
    "\n",
    "print(A.symmetric_difference(C))\n",
    "print(B.symmetric_difference(C))"
   ]
  },
  {
   "cell_type": "code",
   "execution_count": 38,
   "metadata": {},
   "outputs": [
    {
     "name": "stdout",
     "output_type": "stream",
     "text": [
      "A = {'a', 'e'}\n",
      "B = {'c', 'e', 'd'}\n",
      "result = None\n"
     ]
    }
   ],
   "source": [
    "# symmetric_difference_update\n",
    "A = {'a', 'c', 'd'}\n",
    "B = {'c', 'd', 'e' }\n",
    "\n",
    "result = A.symmetric_difference_update(B)\n",
    "\n",
    "print('A =', A)\n",
    "print('B =', B)\n",
    "print('result =', result)"
   ]
  },
  {
   "cell_type": "code",
   "execution_count": 39,
   "metadata": {},
   "outputs": [
    {
     "name": "stdout",
     "output_type": "stream",
     "text": [
      "A U B = {'a', 'c', 2, 'd'}\n",
      "B U C = {1, 'c', 2, 3, 'd'}\n",
      "A U B U C = {'a', 'c', 2, 1, 'd', 3}\n",
      "A.union() = {'a', 'c', 'd'}\n"
     ]
    }
   ],
   "source": [
    "# union\n",
    "A = {'a', 'c', 'd'}\n",
    "B = {'c', 'd', 2 }\n",
    "C = {1, 2, 3}\n",
    "\n",
    "print('A U B =', A.union(B))\n",
    "print('B U C =', B.union(C))\n",
    "print('A U B U C =', A.union(B, C))\n",
    "print('A.union() =', A.union())"
   ]
  },
  {
   "cell_type": "code",
   "execution_count": 40,
   "metadata": {},
   "outputs": [
    {
     "name": "stdout",
     "output_type": "stream",
     "text": [
      "A = {'b', 'a', 1, 2, 3}\n",
      "result = None\n"
     ]
    }
   ],
   "source": [
    "# update\n",
    "A = {'a', 'b'}\n",
    "B = {1, 2, 3}\n",
    "\n",
    "result = A.update(B)\n",
    "\n",
    "print('A =', A)\n",
    "print('result =', result)"
   ]
  },
  {
   "cell_type": "code",
   "execution_count": null,
   "metadata": {},
   "outputs": [],
   "source": []
  }
 ],
 "metadata": {
  "kernelspec": {
   "display_name": "Python 3",
   "language": "python",
   "name": "python3"
  },
  "language_info": {
   "codemirror_mode": {
    "name": "ipython",
    "version": 3
   },
   "file_extension": ".py",
   "mimetype": "text/x-python",
   "name": "python",
   "nbconvert_exporter": "python",
   "pygments_lexer": "ipython3",
   "version": "3.7.6"
  }
 },
 "nbformat": 4,
 "nbformat_minor": 4
}
