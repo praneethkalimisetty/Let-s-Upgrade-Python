{
 "cells": [
  {
   "cell_type": "code",
   "execution_count": 22,
   "metadata": {},
   "outputs": [
    {
     "name": "stdout",
     "output_type": "stream",
     "text": [
      "Enter the Total Marks obtained :67\n",
      "Grade Result of the student :  D\n"
     ]
    }
   ],
   "source": [
    "# Assignment1\n",
    "\n",
    "num = int(input(\"Enter the Total Marks obtained :\"))\n",
    "result = \"PASS\"\n",
    "\n",
    "if num > 90 and num <= 100:\n",
    "    result = \"A\";\n",
    "elif num > 80 and num <= 90:\n",
    "    result = \"B\";\n",
    "elif num > 70 and num <= 80:\n",
    "    result = \"C\";\n",
    "elif num > 60 and num <= 70:\n",
    "    result = \"D\";\n",
    "elif num >= 50 and num <= 60:\n",
    "    result = \"E\";\n",
    "elif num >= 0 and num < 50:\n",
    "    result = \"FAIL\";\n",
    "else:\n",
    "    result = \"Kindly enter a valid number!!\";\n",
    "    \n",
    "print('Grade Result of the student : ',result)"
   ]
  },
  {
   "cell_type": "code",
   "execution_count": 26,
   "metadata": {},
   "outputs": [
    {
     "name": "stdout",
     "output_type": "stream",
     "text": [
      "Enter The Predictive Total Score :222\n",
      "Close By, you are True Indian Fan!\n"
     ]
    }
   ],
   "source": [
    "# Assignment2\n",
    "\n",
    "import random\n",
    "final_score  = random.randrange(1, 250)\n",
    "in_number = int(input(\"Enter The Predictive Total Score :\"))\n",
    "result = \"PASS\"\n",
    "diff = final_score - in_number\n",
    "\n",
    "if diff > 0:\n",
    "    if diff < 10:\n",
    "        result = \"Close By, you are True Indian Fan!\"\n",
    "    else:\n",
    "        result = \"You don't watch that much :P\"\n",
    "elif diff < 0:\n",
    "    if diff > -10:\n",
    "        result = \"Close By, you are True Indian Fan!\"\n",
    "    else:\n",
    "        result = \"You don't watch that much :P\"\n",
    "            \n",
    "    \n",
    "print(result)"
   ]
  }
 ],
 "metadata": {
  "kernelspec": {
   "display_name": "Python 3",
   "language": "python",
   "name": "python3"
  },
  "language_info": {
   "codemirror_mode": {
    "name": "ipython",
    "version": 3
   },
   "file_extension": ".py",
   "mimetype": "text/x-python",
   "name": "python",
   "nbconvert_exporter": "python",
   "pygments_lexer": "ipython3",
   "version": "3.7.6"
  }
 },
 "nbformat": 4,
 "nbformat_minor": 4
}
